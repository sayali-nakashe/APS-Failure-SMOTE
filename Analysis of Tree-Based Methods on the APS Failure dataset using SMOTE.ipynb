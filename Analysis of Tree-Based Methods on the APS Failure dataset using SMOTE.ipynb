{
 "cells": [
  {
   "cell_type": "markdown",
   "metadata": {},
   "source": [
    "## Analysis of Tree-Based Methods on the APS Failure dataset using SMOTE"
   ]
  },
  {
   "cell_type": "markdown",
   "metadata": {},
   "source": [
    "In this project , I have studied SMOTE (Synthetic Minority Over-sampling Technique) and trained a Logistic Model Tree using the\n",
    "pre-processed data for classification of data on the APS Failure dataset.\n",
    "\n",
    "The dataset used is  APS Failure dataset from : https://archive.ics.uci.edu/ml/datasets/APS+Failure+at+Scania+Trucks. \n",
    "\n",
    "The dataset contains a training set and a test set. The training set contains 60,000 rows, of which 1,000 belong to the positive class and 171 columns, of which one is the class column. All attributes are numeric.\n",
    "\n",
    "The dataset consists of data collected from heavy Scania \n",
    "trucks in everyday usage. The system in focus is the \n",
    "Air Pressure system (APS) which generates pressurised \n",
    "air that are utilized in various functions in a truck, \n",
    "such as braking and gear changes. The datasets' \n",
    "positive class consists of component failures \n",
    "for a specific component of the APS system. \n",
    "The negative class consists of trucks with failures \n",
    "for components not related to the APS. The data consists \n",
    "of a subset of all available data, selected by experts. "
   ]
  },
  {
   "cell_type": "markdown",
   "metadata": {},
   "source": [
    "### Using SMOTE (Synthetic Minority Over-sampling Technique) to pre-process data to compensate for class imbalance."
   ]
  },
  {
   "cell_type": "code",
   "execution_count": 1,
   "metadata": {},
   "outputs": [],
   "source": [
    "from imblearn.over_sampling import SMOTE\n",
    "import pandas as pd\n",
    "\n",
    "# Loading the DATA\n",
    "aps_train_smote = pd.read_csv('new_train.csv')\n",
    "\n",
    "# initialising SMOTE\n",
    "smote = SMOTE(random_state=0,ratio=1)\n",
    "\n",
    "# Dividing the data into X and Y\n",
    "aps_train_x=aps_train_smote.drop('class',axis=1)\n",
    "aps_train_y=aps_train_smote['class']\n",
    "\n",
    "#Fit SMOTE and BALANCE CLASSES\n",
    "\n",
    "smote_fit = smote.fit_sample(aps_train_x,aps_train_y)\n",
    "X_smote= pd.DataFrame(smote_fit[0])\n",
    "Y_smote= pd.DataFrame(smote_fit[1],columns=['class'])\n",
    "aps_train_smote = pd.concat([X_smote,Y_smote],axis=1)"
   ]
  },
  {
   "cell_type": "code",
   "execution_count": 2,
   "metadata": {},
   "outputs": [
    {
     "name": "stdout",
     "output_type": "stream",
     "text": [
      "After Balancing : \n",
      " pos    59000\n",
      "neg    59000\n",
      "Name: class, dtype: int64\n"
     ]
    }
   ],
   "source": [
    "print(\"After Balancing : \\n\",aps_train_smote['class'].value_counts())"
   ]
  },
  {
   "cell_type": "code",
   "execution_count": 3,
   "metadata": {},
   "outputs": [
    {
     "name": "stderr",
     "output_type": "stream",
     "text": [
      "DEBUG:weka.core.jvm:Adding bundled jars\n",
      "DEBUG:weka.core.jvm:Classpath=['C:\\\\ProgramData\\\\Anaconda3\\\\lib\\\\site-packages\\\\javabridge\\\\jars\\\\rhino-1.7R4.jar', 'C:\\\\ProgramData\\\\Anaconda3\\\\lib\\\\site-packages\\\\javabridge\\\\jars\\\\runnablequeue.jar', 'C:\\\\ProgramData\\\\Anaconda3\\\\lib\\\\site-packages\\\\javabridge\\\\jars\\\\cpython.jar', 'C:\\\\ProgramData\\\\Anaconda3\\\\lib\\\\site-packages\\\\weka\\\\lib\\\\python-weka-wrapper.jar', 'C:\\\\ProgramData\\\\Anaconda3\\\\lib\\\\site-packages\\\\weka\\\\lib\\\\weka.jar']\n",
      "DEBUG:weka.core.jvm:MaxHeapSize=default\n",
      "DEBUG:weka.core.jvm:Package support disabled\n",
      "DEBUG:javabridge.jutil:Creating JVM object\n",
      "DEBUG:javabridge.jutil:Signalling caller\n"
     ]
    }
   ],
   "source": [
    "import weka.core.jvm as jvm \n",
    "jvm.start()\n",
    "import weka.core.converters as convert"
   ]
  },
  {
   "cell_type": "code",
   "execution_count": 4,
   "metadata": {},
   "outputs": [],
   "source": [
    "aps_train_smote.to_csv('aps_train_smote.csv',sep=',',index=False)\n",
    "aps_train = convert.load_any_file(filename='aps_train_smote.csv')\n",
    "aps_train.class_is_last()"
   ]
  },
  {
   "cell_type": "markdown",
   "metadata": {},
   "source": [
    "### Doing 5-Fold Cross Validation with Balanced Data"
   ]
  },
  {
   "cell_type": "code",
   "execution_count": 5,
   "metadata": {},
   "outputs": [
    {
     "name": "stderr",
     "output_type": "stream",
     "text": [
      "DEBUG:matplotlib:CACHEDIR=C:\\Users\\ssaya\\.matplotlib\n",
      "DEBUG:matplotlib.font_manager:Using fontManager instance from C:\\Users\\ssaya\\.matplotlib\\fontList.json\n",
      "DEBUG:matplotlib.backends:backend module://ipykernel.pylab.backend_inline version unknown\n",
      "DEBUG:matplotlib.backends:backend module://ipykernel.pylab.backend_inline version unknown\n"
     ]
    }
   ],
   "source": [
    "import numpy as np\n",
    "import matplotlib.pyplot as plt\n",
    "from weka.classifiers import Classifier\n",
    "from weka.classifiers import Evaluation\n",
    "from weka.core.classes import Random\n",
    "import weka.plot.classifiers as plcls"
   ]
  },
  {
   "cell_type": "code",
   "execution_count": 6,
   "metadata": {},
   "outputs": [],
   "source": [
    "smote_cls = Classifier(classname=\"weka.classifiers.trees.LMT\")\n",
    "tr_smote_eval = Evaluation(aps_train)\n",
    "tr_smote_eval.crossvalidate_model(classifier=smote_cls,data=aps_train,num_folds=5,rnd=Random(0))"
   ]
  },
  {
   "cell_type": "markdown",
   "metadata": {},
   "source": [
    "### Train Error  and Confusion Matrix after cross validation "
   ]
  },
  {
   "cell_type": "code",
   "execution_count": 7,
   "metadata": {},
   "outputs": [
    {
     "name": "stdout",
     "output_type": "stream",
     "text": [
      "Train CV Error = 1.46%\n",
      "=== Confusion Matrix ===\n",
      "\n",
      "     a     b   <-- classified as\n",
      " 58127   873 |     a = neg\n",
      "   844 58156 |     b = pos\n",
      "\n"
     ]
    }
   ],
   "source": [
    "print(\"Train CV Error = %.2f%%\" % (tr_smote_eval.percent_incorrect))\n",
    "print(tr_smote_eval.matrix())"
   ]
  },
  {
   "cell_type": "markdown",
   "metadata": {},
   "source": [
    "### Evaluating the model on train set"
   ]
  },
  {
   "cell_type": "code",
   "execution_count": 8,
   "metadata": {},
   "outputs": [],
   "source": [
    "smote_cls1 = Classifier.make_copy(smote_cls)\n",
    "smote_cls1.build_classifier(aps_train)\n",
    "predict_y = tr_smote_eval.test_model(smote_cls1,aps_train)"
   ]
  },
  {
   "cell_type": "code",
   "execution_count": 9,
   "metadata": {},
   "outputs": [],
   "source": [
    "from sklearn.metrics import roc_curve, auc, confusion_matrix\n",
    "from sklearn import metrics"
   ]
  },
  {
   "cell_type": "code",
   "execution_count": 15,
   "metadata": {},
   "outputs": [],
   "source": [
    "y_true = np.array(np.where(aps_train_smote['class']=='neg',0,1))"
   ]
  },
  {
   "cell_type": "markdown",
   "metadata": {},
   "source": [
    "### ROC Curve for Training Data"
   ]
  },
  {
   "cell_type": "code",
   "execution_count": 29,
   "metadata": {},
   "outputs": [
    {
     "data": {
      "image/png": "[encoded data removed]",
      "text/plain": [
       "<Figure size 432x288 with 1 Axes>"
      ]
     },
     "metadata": {},
     "output_type": "display_data"
    }
   ],
   "source": [
    "fpr, tpr, _ = roc_curve(y_true,predict_y)\n",
    "plt.figure()\n",
    "plt.plot(fpr, tpr, color='red',lw=2, label='ROC curve (area = %0.2f)' % auc(fpr, tpr))\n",
    "plt.plot([0, 1], [0, 1], color='blue', lw=2, linestyle='--')\n",
    "plt.xlim([0.0, 1.0])\n",
    "plt.ylim([0.0, 1.05])\n",
    "plt.xlabel('FPR')\n",
    "plt.ylabel('TPR')\n",
    "plt.title('ROC Curve for Train set')\n",
    "plt.legend(loc=\"lower right\")\n",
    "plt.show()"
   ]
  },
  {
   "cell_type": "markdown",
   "metadata": {},
   "source": [
    "### Evaluating and Testing the Model on Test data"
   ]
  },
  {
   "cell_type": "code",
   "execution_count": 18,
   "metadata": {},
   "outputs": [],
   "source": [
    "aps_test = convert.load_any_file(filename='new_test.csv')"
   ]
  },
  {
   "cell_type": "code",
   "execution_count": 19,
   "metadata": {},
   "outputs": [],
   "source": [
    "aps_test.class_is_last()"
   ]
  },
  {
   "cell_type": "code",
   "execution_count": 20,
   "metadata": {},
   "outputs": [],
   "source": [
    "ts_eval=Evaluation(aps_test)\n",
    "test_pred_y=ts_eval.test_model(smote_cls1,aps_test)"
   ]
  },
  {
   "cell_type": "markdown",
   "metadata": {},
   "source": [
    "### Test Error  and Confusion Matrix on test set"
   ]
  },
  {
   "cell_type": "code",
   "execution_count": 21,
   "metadata": {},
   "outputs": [
    {
     "name": "stdout",
     "output_type": "stream",
     "text": [
      "Test Error for SMOTE = 2.39%\n",
      "=== Confusion Matrix ===\n",
      "\n",
      "     a     b   <-- classified as\n",
      " 15287   338 |     a = neg\n",
      "    45   330 |     b = pos\n",
      "\n"
     ]
    }
   ],
   "source": [
    "print(\"Test Error for SMOTE = %.2f%%\" % (ts_eval.percent_incorrect))\n",
    "print(ts_eval.matrix())"
   ]
  },
  {
   "cell_type": "markdown",
   "metadata": {},
   "source": [
    "### ROC for Test Set"
   ]
  },
  {
   "cell_type": "code",
   "execution_count": 22,
   "metadata": {},
   "outputs": [],
   "source": [
    "aps_test1= pd.read_csv('new_test.csv')\n",
    "y_test_true=np.array(np.where(aps_test1['class']=='neg',0,1))"
   ]
  },
  {
   "cell_type": "code",
   "execution_count": 31,
   "metadata": {},
   "outputs": [
    {
     "data": {
      "image/png": "[encoded data removed]",
      "text/plain": [
       "<Figure size 432x288 with 1 Axes>"
      ]
     },
     "metadata": {},
     "output_type": "display_data"
    }
   ],
   "source": [
    "fpr, tpr, _ = roc_curve(y_test_true,test_pred_y)\n",
    "plt.figure()\n",
    "plt.plot(fpr, tpr, color='red',lw=2, label='ROC curve (area = %0.2f)' % auc(fpr, tpr))\n",
    "plt.plot([0, 1], [0, 1], color='blue', lw=2, linestyle='--')\n",
    "plt.xlim([0.0, 1.0])\n",
    "plt.ylim([0.0, 1.05])\n",
    "plt.xlabel('FPR')\n",
    "plt.ylabel('TPR')\n",
    "plt.title('ROC Curve for Test Set')\n",
    "plt.legend(loc=\"lower right\")\n",
    "plt.show()"
   ]
  },
  {
   "cell_type": "markdown",
   "metadata": {},
   "source": [
    "### Compare the uncompensated case with SMOTE\n",
    "### Inference :\n",
    "### The AUC for case where the class imbalance was uncompensted was 0.85 and now using SMOTE for balancing classes gives us AUC of 0.93 for test set. It shows that the model has improved considerably using SMOTE."
   ]
  }
 ],
 "metadata": {
  "kernelspec": {
   "display_name": "Python 3",
   "language": "python",
   "name": "python3"
  },
  "language_info": {
   "codemirror_mode": {
    "name": "ipython",
    "version": 3
   },
   "file_extension": ".py",
   "mimetype": "text/x-python",
   "name": "python",
   "nbconvert_exporter": "python",
   "pygments_lexer": "ipython3",
   "version": "3.6.5"
  }
 },
 "nbformat": 4,
 "nbformat_minor": 2
}
